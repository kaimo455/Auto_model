{
 "cells": [
  {
   "cell_type": "markdown",
   "metadata": {
    "toc": true
   },
   "source": [
    "<h1>Table of Contents<span class=\"tocSkip\"></span></h1>\n",
    "<div class=\"toc\"><ul class=\"toc-item\"><li><span><a href=\"#Preprocessing\" data-toc-modified-id=\"Preprocessing-1\"><span class=\"toc-item-num\">1&nbsp;&nbsp;</span>Preprocessing</a></span><ul class=\"toc-item\"><li><span><a href=\"#Utility-functions\" data-toc-modified-id=\"Utility-functions-1.1\"><span class=\"toc-item-num\">1.1&nbsp;&nbsp;</span>Utility functions</a></span></li><li><span><a href=\"#Load-data-and-preprocessing\" data-toc-modified-id=\"Load-data-and-preprocessing-1.2\"><span class=\"toc-item-num\">1.2&nbsp;&nbsp;</span>Load data and preprocessing</a></span></li></ul></li><li><span><a href=\"#Hyperparameter-tuning\" data-toc-modified-id=\"Hyperparameter-tuning-2\"><span class=\"toc-item-num\">2&nbsp;&nbsp;</span>Hyperparameter tuning</a></span><ul class=\"toc-item\"><li><span><a href=\"#RandomForest\" data-toc-modified-id=\"RandomForest-2.1\"><span class=\"toc-item-num\">2.1&nbsp;&nbsp;</span>RandomForest</a></span></li><li><span><a href=\"#LightGBM\" data-toc-modified-id=\"LightGBM-2.2\"><span class=\"toc-item-num\">2.2&nbsp;&nbsp;</span>LightGBM</a></span></li></ul></li><li><span><a href=\"#Model-Evaluation\" data-toc-modified-id=\"Model-Evaluation-3\"><span class=\"toc-item-num\">3&nbsp;&nbsp;</span>Model Evaluation</a></span><ul class=\"toc-item\"><li><span><a href=\"#Train-test-split\" data-toc-modified-id=\"Train-test-split-3.1\"><span class=\"toc-item-num\">3.1&nbsp;&nbsp;</span>Train test split</a></span></li><li><span><a href=\"#Logistic-Regressoin\" data-toc-modified-id=\"Logistic-Regressoin-3.2\"><span class=\"toc-item-num\">3.2&nbsp;&nbsp;</span>Logistic Regressoin</a></span></li><li><span><a href=\"#RandomForest\" data-toc-modified-id=\"RandomForest-3.3\"><span class=\"toc-item-num\">3.3&nbsp;&nbsp;</span>RandomForest</a></span></li><li><span><a href=\"#LightGBM\" data-toc-modified-id=\"LightGBM-3.4\"><span class=\"toc-item-num\">3.4&nbsp;&nbsp;</span>LightGBM</a></span></li></ul></li><li><span><a href=\"#Test-set-prediction\" data-toc-modified-id=\"Test-set-prediction-4\"><span class=\"toc-item-num\">4&nbsp;&nbsp;</span>Test set prediction</a></span><ul class=\"toc-item\"><li><span><a href=\"#Data-laoding-and-preprocessing-for-LightGBM\" data-toc-modified-id=\"Data-laoding-and-preprocessing-for-LightGBM-4.1\"><span class=\"toc-item-num\">4.1&nbsp;&nbsp;</span>Data laoding and preprocessing for LightGBM</a></span></li></ul></li></ul></div>"
   ]
  },
  {
   "cell_type": "markdown",
   "metadata": {},
   "source": [
    "# Preprocessing"
   ]
  },
  {
   "cell_type": "code",
   "execution_count": 99,
   "metadata": {},
   "outputs": [],
   "source": [
    "## Read in csv file for Surgical Deepnet data that is stored in path:\n",
    "import itertools\n",
    "import pickle\n",
    "import numpy as np\n",
    "import pandas as pd\n",
    "import seaborn as sns\n",
    "from sklearn.preprocessing import LabelEncoder, StandardScaler\n",
    "from sklearn.model_selection import train_test_split\n",
    "from sklearn.metrics import roc_auc_score\n",
    "from bayes_opt import BayesianOptimization\n",
    "\n",
    "from preprocessor import Preprocessor\n",
    "from logisticOptimizer import LogisticOptimizer\n",
    "from randomforestOptimizer import RandomForestOptimizer\n",
    "from lightgbmOptimizer import LightgbmOptimizerBinary\n",
    "\n",
    "pd.set_option('display.max_columns', None)\n",
    "pd.set_option('display.expand_frame_repr', False)\n",
    "pd.set_option('display.max_rows', 5)"
   ]
  },
  {
   "cell_type": "code",
   "execution_count": 3,
   "metadata": {},
   "outputs": [],
   "source": [
    "%load_ext autoreload\n",
    "%autoreload 2"
   ]
  },
  {
   "cell_type": "code",
   "execution_count": 4,
   "metadata": {},
   "outputs": [
    {
     "data": {
      "text/html": [
       "<style>.container { width:100% !important; }</style>"
      ],
      "text/plain": [
       "<IPython.core.display.HTML object>"
      ]
     },
     "metadata": {},
     "output_type": "display_data"
    }
   ],
   "source": [
    "from IPython.core.display import display, HTML\n",
    "display(HTML(\"<style>.container { width:100% !important; }</style>\"))"
   ]
  },
  {
   "cell_type": "markdown",
   "metadata": {},
   "source": [
    "## Utility functions"
   ]
  },
  {
   "cell_type": "code",
   "execution_count": 81,
   "metadata": {
    "code_folding": [
     0,
     21
    ]
   },
   "outputs": [],
   "source": [
    "def feature_generation(data):\n",
    "    ### datetime: int\n",
    "    data['proc_create_DT_delta'] = (data['PROC_DATE'] - data['CREATE_DT_TM']).dt.days\n",
    "    ## convert three datetime columns to referencex date: int\n",
    "    reference_date = pd.datetime(2017, 12, 31)\n",
    "    data['CREATE_DT_TM'] = (data['CREATE_DT_TM'] - reference_date).dt.days\n",
    "    data['SCHED_START_DT_TM'] = (data['SCHED_START_DT_TM'] - reference_date).dt.days\n",
    "    data['PROC_DATE'] = (data['PROC_DATE'] - reference_date).dt.days\n",
    "    ### age: float\n",
    "    data['age_diff'] = data['AGE_ON_CONTACT_DATE'] - data['CAV_REC_AGE']\n",
    "    ### is_bp_diastolic_normal: boolean\n",
    "    data['is_BP_DIASTOLIC_normal'] = data['BP_DIASTOLIC'].map(lambda x: x >= 60 and x <= 90)\n",
    "    ### Is_bp_systolic_normal: boolean\n",
    "    data['is_BP_SYSTOLIC_normal'] = data['BP_SYSTOLIC'].map(lambda x: x >= 90 and x <= 130)\n",
    "    ### hypertenssion: boolean\n",
    "    data['hypertension'] = (data['BP_DIASTOLIC'] >= 90) & (data['BP_SYSTOLIC'] >= 140)\n",
    "    ### is_pulse_normal: boolean\n",
    "    data['is_pulse_normal'] = data['PULSE'].map(lambda x: x >= 60 and x <= 100)\n",
    "    return data\n",
    "\n",
    "def find_optimal_threshold(fpr, tpr, thresholds):\n",
    "    idx = np.arange(len(thresholds)) \n",
    "    roc = pd.DataFrame({'tf': pd.Series(tpr+fpr-1, index=idx).abs(),\n",
    "                        'thresholds': pd.Series(thresholds, index=idx)})\n",
    "    return roc.sort_values(by='tf', axis=0, ascending=True).iloc[0]"
   ]
  },
  {
   "cell_type": "markdown",
   "metadata": {},
   "source": [
    "## Load data and preprocessing"
   ]
  },
  {
   "cell_type": "code",
   "execution_count": 77,
   "metadata": {
    "code_folding": []
   },
   "outputs": [],
   "source": [
    "## datetime features\n",
    "datetime_cols = ['PROC_DATE', 'CREATE_DT_TM', 'SCHED_START_DT_TM']\n",
    "## integer features\n",
    "int_cols = ['CAV_REC_AGE']\n",
    "## category features\n",
    "cate_cols = ['SCHED_SURG_AREA', 'RACE', 'ETHNIC_GROUP', 'SCHED_HOSPITAL', 'SCHED_SURG_PROC_CD', 'FEMALE', 'CAV_REC_SEX', 'CAV_REC_LANG', 'CAV_REC_IPOP', 'CAV_REC_PRIORITY_CODE', 'CAV_REC_DISP_CODE']\n",
    "## boolean features\n",
    "bool_cols = ['PCPVISIT', 'METFORMIN_FLAG', 'OPIOIDS_FLAG', 'ALPHA_BLOCKERS', 'CENTRAL_ANTAGONISTS', 'RENIN', 'BETA_BLOCKERS', 'ACE_INHIB', 'ARB', 'ALDOSTERONE_BLOCKERS', 'VASODIALATORS', 'DIURETICS', 'CALCIUM_BLOCKERS', 'STATINS', 'INSULIN_MEDS', 'ASPIRIN', 'WARFARIN', 'DOACS', 'PRETERM_17P', 'MEDROL', 'PREDNISONE', 'INHALED_STEROID_WITH_LABA', 'INHALED_STEROID_WITHOUT_LABA', 'INHALED_STEROIDS', 'ASTHMA_BIOLOGICS', 'SHORT_ACTING_BRONCHO_DIALATORS', 'TNF_INHIBITORS', 'IMMUNOMODULATORS', 'AMINOSALICYLATES', 'CORTICOSTEROIDS', 'ARNI', 'ALLOPURINOL', 'SEIZURE', 'MUSCLERELAXANT', 'DIGOXIN', 'INOTROPES', 'ANTI_ARRHYTHMIC', 'ANTIPLATELET', 'SULFONYLUREA', 'GLP_1_AGONIST', 'THIAZOLIDINEDIONE', 'SGLT2_INHIBITOR', 'DPP4_INHIBITOR', 'ALPHA_GLUCOSIDASE_INHIBITOR', 'AMYLINOMIMETIC', 'RAPID_ACTING_INSULIN', 'SHORT_ACTING_INSULIN', 'INTERMEDIATE_ACTING_INSULIN', 'LONG_ACTING_INSULIN', 'MINOCYCLINE', 'DOXYCYCLINE', 'MELATONIN', 'METHAZOLAMIDE', 'HYDROXYCHLOROQUINE', 'ITTC', 'DMARDS', 'OBESE_HST', 'MORBIDOBESE_HST', 'PH_HST', 'AFIB_HST', 'COPD_HST', 'CHF_HST', 'DIAB_HST', 'CAD_HST', 'OSTEO_HST', 'HTN_HST', 'CANCER_HST', 'LUNG_CANCER_HST', 'OVARIAN_CANCER_HST', 'HEAD_NECK_CANCER_HST', 'BREAST_CANCER_HST', 'ASTHMA_HST', 'GERD_HST', 'FIBROMYALGIA_HST', 'DEPRESSION_HST', 'PSORIATIC_ARTHRITIS_HST', 'RHEUM_ARTHRITIS_HST', 'LUPUS_HST', 'VTVF_HST', 'STROKE_HST', 'VASCULARDISEASE_HST', 'LOWBACKPAIN_HST', 'DVT_HST', 'PE_HST', 'HYPOTHYROIDISM_HST', 'ADRENAL_INSUFFICIENCY_HST', 'INFERTILITY_HST', 'CKD_HST', 'ESRD_HST', 'OBS_SLEEPAPNEA_HST' , 'CARDIAC_ARREST_HST', 'HEMO_STROKE_HST', 'MAJOR_BLEED_HST', 'MACULAR_DEGEN_HST', 'ANXIETY_HST', 'HYPERLIPIDEMIA_HST', 'HIV_HST', 'ALZHEIMER_HST', 'COLORECTAL_CANCER_HST', 'ENDOMETRIAL_CANCER_HST', 'GLAUCOMA_HST', 'HIP_PELVIC_FRACTURE_HST', 'BENIGN_PROSTATIC_HYPERPLASIA_HST', 'CIRRHOSIS_HST', 'CIRRHOSIS_HST_1']"
   ]
  },
  {
   "cell_type": "code",
   "execution_count": 78,
   "metadata": {},
   "outputs": [
    {
     "name": "stdout",
     "output_type": "stream",
     "text": [
      "Preproocessor initializing...\n",
      "Loading data from './data/PYTHON_LAB_TRAIN.csv'... Parsing datetime... Finished.\n",
      "Finished.\n",
      "Dropping column(s) and row(s) with ratio 0.50 and 0.10 respectively... Finished.\n",
      "Fill null values... Finished.\n",
      "Fill null values... Finished.\n",
      "Feature encoding... Finished.\n",
      "Dropping specific column(s)... Finished.\n"
     ]
    }
   ],
   "source": [
    "preprocessor = Preprocessor(data_path='./data/PYTHON_LAB_TRAIN.csv', \\\n",
    "                            data_type='csv', \\\n",
    "                            parse_dates=datetime_cols)\n",
    "preprocessor.drop_null(0.5, 0.1)\n",
    "preprocessor.fill_na('ffill')\n",
    "preprocessor.fill_na('bfill')\n",
    "preprocessor.feature_encoding(cate_cols)\n",
    "preprocessor.convert_dtypes(int_cols=int_cols, cate_cols=cate_cols, bool_cols=bool_cols)\n",
    "## feature generation\n",
    "preprocessor.data = feature_generation(preprocessor.data)\n",
    "## scaling data\n",
    "preprocessor.scaling(cate_cols)\n",
    "## drop duplicated feature(s)\n",
    "preprocessor.drop_cols(['FEMALE'])\n",
    "## target preprocessing\n",
    "preprocessor.data['target'] = preprocessor.data['LOS'] > 5"
   ]
  },
  {
   "cell_type": "markdown",
   "metadata": {},
   "source": [
    "# Hyperparameter tuning"
   ]
  },
  {
   "cell_type": "markdown",
   "metadata": {},
   "source": [
    "## RandomForest"
   ]
  },
  {
   "cell_type": "code",
   "execution_count": 83,
   "metadata": {},
   "outputs": [],
   "source": [
    "base_params = {'bootstrap': True, \\\n",
    "               'oob_score': False, \\\n",
    "               'n_jobs': 4, \\\n",
    "               'random_state': 1213, \\\n",
    "               'warm_start': False, \\\n",
    "               'class_weight': 'balanced_subsample'}\n",
    "\n",
    "cat_params = {'criterion': ['gini', 'entropy']}\n",
    "\n",
    "int_params = {'n_estimators': (10, 500, 10), \\\n",
    "              'max_depth': (1, 50, 1), \\\n",
    "              'min_samples_split': (2, 500, 2), \\\n",
    "              'min_samples_leaf': (1, 250, 1), \\\n",
    "              'max_leaf_nodes': (2, 1024, 4)}\n",
    "\n",
    "float_params = {'min_weight_fraction_leaf': (0, 0.5), \\\n",
    "                'min_impurity_decrease': (0, 1), \\\n",
    "                'max_features': (0.1, 1)}"
   ]
  },
  {
   "cell_type": "code",
   "execution_count": null,
   "metadata": {},
   "outputs": [],
   "source": [
    "rf_optimizer = RandomForestOptimizer(X_train, y_train, X_eval, y_eval, X_test, y_test, \\\n",
    "                               base_params, cat_params, int_params, float_params, \\\n",
    "                               num_opts=1000, trials_path='./RandomForest_hyperopt_trials/trials.pkl', load_trials=False)"
   ]
  },
  {
   "cell_type": "markdown",
   "metadata": {},
   "source": [
    "## LightGBM"
   ]
  },
  {
   "cell_type": "code",
   "execution_count": 84,
   "metadata": {
    "code_folding": [
     0,
     18,
     28
    ]
   },
   "outputs": [],
   "source": [
    "base_params = {'task': 'train', \\\n",
    "               'objective': 'binary', \\\n",
    "               'tree_learner': 'serial', \\\n",
    "               'num_threads': 4, \\\n",
    "               'device_type': 'cpu', \\\n",
    "               'seed': 1213, \\\n",
    "               'bagging_seed': 42, \\\n",
    "               'feature_fraction_seed': 3, \\\n",
    "               'first_metric_only': False, \\\n",
    "               'max_delta_step': 0, \\\n",
    "               'bin_construct_sample_cnt': 200000, \\\n",
    "               'histogram_pool_size': -1, \\\n",
    "               'is_unbalance': True, \\\n",
    "               'metric': 'auc,binary_logloss,binary_error', \\\n",
    "               'metric_freq': 1}\n",
    "\n",
    "cat_params = {'boosting': ['gbdt']}\n",
    "\n",
    "int_params = {'num_leaves': (2, 1024, 8), \\\n",
    "              'max_depth': (1, 100, 1), \\\n",
    "              'min_data_in_leaf': (2, 500, 4), \\\n",
    "              'bagging_freq': (0, 100, 1), \\\n",
    "              'min_data_per_group': (100, 500, 10), \\\n",
    "              'max_cat_threshold': (16, 256, 2), \\\n",
    "              'max_cat_to_onehot': (1, 100, 1), \\\n",
    "              'max_bin': (127, 511, 2), \\\n",
    "              'min_data_in_bin': (3, 128, 8)}\n",
    "\n",
    "float_params = {'min_sum_hessian_in_leaf': (0, 0.1), \\\n",
    "                'bagging_fraction': (0.1, 1), \\\n",
    "                'pos_bagging_fraction': (0.1, 1), \\\n",
    "                'neg_bagging_fraction': (0.1, 1), \\\n",
    "                'feature_fraction': (0.1, 1), \\\n",
    "                'feature_fraction_bynode': (0.1, 1), \\\n",
    "                'lambda_l1': (0, 500), \\\n",
    "                'lambda_l2': (1000, 4000), \\\n",
    "                'sigmoid': (0.1, 500), \\\n",
    "                'cat_l2': (10, 1000), \\\n",
    "                'cat_smoth': (10, 1000), \\\n",
    "                'min_gain_to_split': (0, 100)}"
   ]
  },
  {
   "cell_type": "code",
   "execution_count": null,
   "metadata": {},
   "outputs": [],
   "source": [
    "lgb_hyperopt = lightgbm_hyperopt_binary(X_train, y_train, X_eval, y_eval, X_test, y_test, \\\n",
    "                                        base_params, cat_params, int_params, float_params, \\\n",
    "                                        num_opts=50, trials_path='./Lightgbm_hyperopt_trials/trials.pkl', load_trials=True)"
   ]
  },
  {
   "cell_type": "markdown",
   "metadata": {},
   "source": [
    "# Model Evaluation"
   ]
  },
  {
   "cell_type": "markdown",
   "metadata": {},
   "source": [
    "## Train test split"
   ]
  },
  {
   "cell_type": "code",
   "execution_count": 225,
   "metadata": {},
   "outputs": [],
   "source": [
    "X_train, X_test, y_train, y_test = train_test_split(lab_df.drop(['LOS', 'target'], axis=1), lab_df['target'], test_size=0.25)"
   ]
  },
  {
   "cell_type": "markdown",
   "metadata": {},
   "source": [
    "## Logistic Regressoin"
   ]
  },
  {
   "cell_type": "code",
   "execution_count": 63,
   "metadata": {},
   "outputs": [],
   "source": [
    "import pickle\n",
    "import matplotlib.pyplot as plt\n",
    "from sklearn.linear_model import LogisticRegression\n",
    "from sklearn.metrics import confusion_matrix, roc_auc_score, roc_curve"
   ]
  },
  {
   "cell_type": "code",
   "execution_count": 44,
   "metadata": {},
   "outputs": [],
   "source": [
    "## optimal hyperparameters\n",
    "params = {'C': 0.35938136638046203, \\\n",
    "          'penalty': 'elasticnet', \\\n",
    "          'tol': 0.0001, \\\n",
    "          'class_weight': 'balanced', \\\n",
    "          'l1_ratio': 0.75, \\\n",
    "          'solver': 'saga', \\\n",
    "          'max_iter': 5000, \\\n",
    "          'n_jobs': 4}"
   ]
  },
  {
   "cell_type": "code",
   "execution_count": 47,
   "metadata": {},
   "outputs": [],
   "source": [
    "## train model\n",
    "logistic_clf = LogisticRegression(**params).fit(X_train, y_train)"
   ]
  },
  {
   "cell_type": "code",
   "execution_count": 56,
   "metadata": {},
   "outputs": [],
   "source": [
    "## save model\n",
    "pickle.dump(logistic_clf, open('./models/logisticRegression.pkl', 'wb'))"
   ]
  },
  {
   "cell_type": "code",
   "execution_count": 61,
   "metadata": {
    "scrolled": true
   },
   "outputs": [],
   "source": [
    "## prediction\n",
    "y_train_pred_prob = logistic_clf.predict_proba(X_train)[:, 1]\n",
    "y_test_pred_prob = logistic_clf.predict_proba(X_test)[:, 1]\n",
    "fpr_train, tpr_train, thresholds_train = roc_curve(y_train, y_train_pred_prob)\n",
    "fpr_test, tpr_test, thresholds_test = roc_curve(y_test, y_test_pred_prob)"
   ]
  },
  {
   "cell_type": "code",
   "execution_count": 88,
   "metadata": {},
   "outputs": [
    {
     "name": "stdout",
     "output_type": "stream",
     "text": [
      "The training AUC is 0.74\n",
      "The testing AUC is 0.75\n",
      "The difference btw. training and testing is -0.0017\n"
     ]
    }
   ],
   "source": [
    "## AUC scores\n",
    "auc_train = roc_auc_score(y_train, y_train_pred_prob)\n",
    "auc_test = roc_auc_score(y_test, y_test_pred_prob)\n",
    "auc_diff = auc_train - auc_test\n",
    "print(f'The training AUC is {auc_train:.2f}\\n'\\\n",
    "      f'The testing AUC is {auc_test:.2f}\\n'\\\n",
    "      f'The difference btw. training and testing is {auc_diff:.4f}')"
   ]
  },
  {
   "cell_type": "code",
   "execution_count": 71,
   "metadata": {},
   "outputs": [],
   "source": [
    "## optimize threshold\n",
    "optimal_threshold = find_optimal_threshold(fpr_test, tpr_test, thresholds_test)['thresholds']"
   ]
  },
  {
   "cell_type": "code",
   "execution_count": 84,
   "metadata": {},
   "outputs": [
    {
     "data": {
      "image/png": "[encoded data removed]",
      "text/plain": [
       "<Figure size 432x288 with 1 Axes>"
      ]
     },
     "metadata": {
      "needs_background": "light"
     },
     "output_type": "display_data"
    }
   ],
   "source": [
    "## plot roc\n",
    "plt.plot([0, 1], [0, 1], color='red')\n",
    "plt.plot(fpr_train, tpr_train, label='Train ROC', color='blue')\n",
    "plt.plot(fpr_test, tpr_test, label='Test ROC', color='green')\n",
    "plt.legend()\n",
    "plt.title('LogisticRegression ROC')\n",
    "plt.show()"
   ]
  },
  {
   "cell_type": "markdown",
   "metadata": {},
   "source": [
    "## RandomForest"
   ]
  },
  {
   "cell_type": "code",
   "execution_count": 102,
   "metadata": {},
   "outputs": [],
   "source": [
    "from sklearn.ensemble import RandomForestClassifier"
   ]
  },
  {
   "cell_type": "code",
   "execution_count": 91,
   "metadata": {},
   "outputs": [],
   "source": [
    "trials = pickle.load(open('./RandomForest_hyperopt_trials/trials.pkl', 'rb'))"
   ]
  },
  {
   "cell_type": "code",
   "execution_count": 101,
   "metadata": {},
   "outputs": [
    {
     "data": {
      "text/plain": [
       "{'criterion': [1],\n",
       " 'max_depth': [42],\n",
       " 'max_features': [0.5498990351888509],\n",
       " 'max_leaf_nodes': [228],\n",
       " 'min_impurity_decrease': [0.000956478290154218],\n",
       " 'min_samples_leaf': [139],\n",
       " 'min_samples_split': [142],\n",
       " 'min_weight_fraction_leaf': [1.9761111605676174e-06],\n",
       " 'n_estimators': [25]}"
      ]
     },
     "execution_count": 101,
     "metadata": {},
     "output_type": "execute_result"
    }
   ],
   "source": [
    "## optimal hyperparameters\n",
    "trials.best_trial['misc']['vals']"
   ]
  },
  {
   "cell_type": "code",
   "execution_count": 226,
   "metadata": {},
   "outputs": [],
   "source": [
    "params = {'n_estimators': 25, \\\n",
    "          'criterion': 'entropy', \\\n",
    "          'max_depth': 42, \\\n",
    "          'min_samples_split': 142, \\\n",
    "          'min_samples_leaf': 139, \\\n",
    "          'min_weight_fraction_leaf': 1.9761111605676174e-06, \\\n",
    "          'max_features': 0.5498990351888509, \\\n",
    "          'max_leaf_nodes': 228, \\\n",
    "          'min_impurity_decrease': 0.000956478290154218, \\\n",
    "          'n_jobs': 4, \\\n",
    "          'class_weight': 'balanced'}"
   ]
  },
  {
   "cell_type": "code",
   "execution_count": 227,
   "metadata": {},
   "outputs": [],
   "source": [
    "## train model\n",
    "rf_clf = RandomForestClassifier(**params).fit(X_train, y_train)\n",
    "## save model\n",
    "pickle.dump(rf_clf, open('./models/RandomForest.pkl', 'wb'))"
   ]
  },
  {
   "cell_type": "code",
   "execution_count": 228,
   "metadata": {},
   "outputs": [],
   "source": [
    "## prediction\n",
    "y_train_pred_prob = rf_clf.predict_proba(X_train)[:, 1]\n",
    "y_test_pred_prob = rf_clf.predict_proba(X_test)[:, 1]\n",
    "fpr_train, tpr_train, thresholds_train = roc_curve(y_train, y_train_pred_prob)\n",
    "fpr_test, tpr_test, thresholds_test = roc_curve(y_test, y_test_pred_prob)"
   ]
  },
  {
   "cell_type": "code",
   "execution_count": 229,
   "metadata": {},
   "outputs": [
    {
     "name": "stdout",
     "output_type": "stream",
     "text": [
      "The training AUC is 0.79\n",
      "The testing AUC is 0.78\n",
      "The difference btw. training and testing is 0.0139\n"
     ]
    }
   ],
   "source": [
    "## AUC scores\n",
    "auc_train = roc_auc_score(y_train, y_train_pred_prob)\n",
    "auc_test = roc_auc_score(y_test, y_test_pred_prob)\n",
    "auc_diff = auc_train - auc_test\n",
    "print(f'The training AUC is {auc_train:.2f}\\n'\\\n",
    "      f'The testing AUC is {auc_test:.2f}\\n'\\\n",
    "      f'The difference btw. training and testing is {auc_diff:.4f}')"
   ]
  },
  {
   "cell_type": "code",
   "execution_count": 230,
   "metadata": {},
   "outputs": [],
   "source": [
    "## optimize threshold\n",
    "optimal_threshold = find_optimal_threshold(fpr_test, tpr_test, thresholds_test)['thresholds']"
   ]
  },
  {
   "cell_type": "code",
   "execution_count": 231,
   "metadata": {},
   "outputs": [
    {
     "data": {
      "image/png": "[encoded data removed]",
      "text/plain": [
       "<Figure size 432x288 with 1 Axes>"
      ]
     },
     "metadata": {
      "needs_background": "light"
     },
     "output_type": "display_data"
    }
   ],
   "source": [
    "## plot roc\n",
    "plt.plot([0, 1], [0, 1], color='red')\n",
    "plt.plot(fpr_train, tpr_train, label='Train ROC', color='blue')\n",
    "plt.plot(fpr_test, tpr_test, label='Test ROC', color='green')\n",
    "plt.legend()\n",
    "plt.title('RandomForest ROC')\n",
    "plt.show()"
   ]
  },
  {
   "cell_type": "markdown",
   "metadata": {},
   "source": [
    "## LightGBM"
   ]
  },
  {
   "cell_type": "code",
   "execution_count": 112,
   "metadata": {},
   "outputs": [],
   "source": [
    "import lightgbm as lgb"
   ]
  },
  {
   "cell_type": "code",
   "execution_count": 113,
   "metadata": {},
   "outputs": [],
   "source": [
    "trials = pickle.load(open('./Lightgbm_hyperopt_trials//trials.pkl', 'rb'))"
   ]
  },
  {
   "cell_type": "code",
   "execution_count": 116,
   "metadata": {},
   "outputs": [
    {
     "data": {
      "text/plain": [
       "{'bagging_fraction': [0.5328606157852269],\n",
       " 'bagging_freq': [13],\n",
       " 'boosting': [0],\n",
       " 'cat_l2': [282.1088468478816],\n",
       " 'cat_smoth': [872.24054600045],\n",
       " 'feature_fraction': [0.12843913539981874],\n",
       " 'feature_fraction_bynode': [0.6779409466942411],\n",
       " 'lambda_l1': [380.0876729734785],\n",
       " 'lambda_l2': [1846.2881071591921],\n",
       " 'max_bin': [179],\n",
       " 'max_cat_threshold': [112],\n",
       " 'max_cat_to_onehot': [6],\n",
       " 'max_depth': [0],\n",
       " 'min_data_in_bin': [3],\n",
       " 'min_data_in_leaf': [74],\n",
       " 'min_data_per_group': [17],\n",
       " 'min_gain_to_split': [77.17261768423568],\n",
       " 'min_sum_hessian_in_leaf': [0.08005933144430555],\n",
       " 'neg_bagging_fraction': [0.6635583589354656],\n",
       " 'num_leaves': [41],\n",
       " 'pos_bagging_fraction': [0.8548722861693099],\n",
       " 'sigmoid': [35.67201038953876]}"
      ]
     },
     "execution_count": 116,
     "metadata": {},
     "output_type": "execute_result"
    }
   ],
   "source": [
    "## optimal hyperparameters\n",
    "trials.best_trial['misc']['vals']"
   ]
  },
  {
   "cell_type": "code",
   "execution_count": 195,
   "metadata": {
    "code_folding": [
     0
    ]
   },
   "outputs": [],
   "source": [
    "base_params = {'task': 'train', \\\n",
    "               'objective': 'binary', \\\n",
    "               'tree_learner': 'serial', \\\n",
    "               'num_threads': 4, \\\n",
    "               'device_type': 'cpu', \\\n",
    "               'seed': 1213, \\\n",
    "               'bagging_seed': 42, \\\n",
    "               'feature_fraction_seed': 3, \\\n",
    "               'first_metric_only': False, \\\n",
    "               'max_delta_step': 0, \\\n",
    "               'bin_construct_sample_cnt': 200000, \\\n",
    "               'histogram_pool_size': -1, \\\n",
    "               'is_unbalance': True, \\\n",
    "               'metric': 'auc,binary_logloss,binary_error', \\\n",
    "               'metric_freq': 1}\n",
    "\n",
    "params = {'boosting': 'gbdt', \\\n",
    "          'num_leaves': 41, \\\n",
    "          'max_depth': 0, \\\n",
    "          'min_data_in_leaf': 74, \\\n",
    "          'bagging_freq': 13, \\\n",
    "          'min_data_per_group': 17, \\\n",
    "          'max_cat_threshold': 112, \\\n",
    "          'max_cat_to_onehot': 6, \\\n",
    "          'max_bin': 179, \\\n",
    "          'min_data_in_bin': 3, \\\n",
    "          'min_sum_hessian_in_leaf': 0.08005933144430555, \\\n",
    "          'bagging_fraction': 0.5328606157852269, \\\n",
    "          'pos_bagging_fraction': 0.8548722861693099, \\\n",
    "          'neg_bagging_fraction': 0.6635583589354656, \\\n",
    "          'feature_fraction': 0.12843913539981874, \\\n",
    "          'feature_fraction_bynode': 0.6779409466942411, \\\n",
    "          'lambda_l1': 380.0876729734785, \\\n",
    "          'lambda_l2': 1846.2881071591921, \\\n",
    "          'sigmoid': 35.67201038953876, \\\n",
    "          'cat_l2': 35.67201038953876, \\\n",
    "          'cat_smoth': 872.24054600045, \\\n",
    "          'min_gain_to_split': 77.17261768423568}\n",
    "all_params = dict(base_params, **params)"
   ]
  },
  {
   "cell_type": "code",
   "execution_count": 196,
   "metadata": {},
   "outputs": [
    {
     "name": "stderr",
     "output_type": "stream",
     "text": [
      "/Users/kaimo/Python-project/venv/lib/python3.7/site-packages/lightgbm/engine.py:118: UserWarning: Found `num_boost_round` in params. Will use it instead of argument\n",
      "  warnings.warn(\"Found `{}` in params. Will use it instead of argument\".format(alias))\n"
     ]
    }
   ],
   "source": [
    "## train model\n",
    "lgb_clf = lgb.LGBMClassifier(**all_params, num_boost_round=4000, learning_rate=0.03).fit(X_train, y_train)\n",
    "## save model\n",
    "pickle.dump(lgb_clf, open('./models/LightGBM.pkl', 'wb'))"
   ]
  },
  {
   "cell_type": "code",
   "execution_count": 197,
   "metadata": {},
   "outputs": [],
   "source": [
    "## prediction\n",
    "y_train_pred_prob = lgb_clf.predict_proba(X_train)[:, 1]\n",
    "y_test_pred_prob = lgb_clf.predict_proba(X_test)[:, 1]\n",
    "fpr_train, tpr_train, thresholds_train = roc_curve(y_train, y_train_pred_prob)\n",
    "fpr_test, tpr_test, thresholds_test = roc_curve(y_test, y_test_pred_prob)"
   ]
  },
  {
   "cell_type": "code",
   "execution_count": 198,
   "metadata": {},
   "outputs": [
    {
     "name": "stdout",
     "output_type": "stream",
     "text": [
      "The training AUC is 0.87\n",
      "The testing AUC is 0.86\n",
      "The difference btw. training and testing is 0.0063\n"
     ]
    }
   ],
   "source": [
    "## AUC scores\n",
    "auc_train = roc_auc_score(y_train, y_train_pred_prob)\n",
    "auc_test = roc_auc_score(y_test, y_test_pred_prob)\n",
    "auc_diff = auc_train - auc_test\n",
    "print(f'The training AUC is {auc_train:.2f}\\n'\\\n",
    "      f'The testing AUC is {auc_test:.2f}\\n'\\\n",
    "      f'The difference btw. training and testing is {auc_diff:.4f}')"
   ]
  },
  {
   "cell_type": "code",
   "execution_count": 199,
   "metadata": {},
   "outputs": [],
   "source": [
    "## optimize threshold\n",
    "optimal_threshold = find_optimal_threshold(fpr_test, tpr_test, thresholds_test)['thresholds']"
   ]
  },
  {
   "cell_type": "code",
   "execution_count": 202,
   "metadata": {},
   "outputs": [
    {
     "data": {
      "image/png": "[encoded data removed]",
      "text/plain": [
       "<Figure size 432x288 with 1 Axes>"
      ]
     },
     "metadata": {
      "needs_background": "light"
     },
     "output_type": "display_data"
    }
   ],
   "source": [
    "## plot roc\n",
    "plt.plot([0, 1], [0, 1], color='red')\n",
    "plt.plot(fpr_train, tpr_train, label='Train ROC', color='blue')\n",
    "plt.plot(fpr_test, tpr_test, label='Test ROC', color='green')\n",
    "plt.legend()\n",
    "plt.title('LightGBM ROC')\n",
    "plt.show()"
   ]
  },
  {
   "cell_type": "code",
   "execution_count": 201,
   "metadata": {},
   "outputs": [
    {
     "data": {
      "image/png": "[encoded data removed]",
      "text/plain": [
       "<Figure size 432x288 with 1 Axes>"
      ]
     },
     "metadata": {
      "needs_background": "light"
     },
     "output_type": "display_data"
    }
   ],
   "source": [
    "##### sorted predicted probability plot\n",
    "# x-axis is the index\n",
    "# y-axis is the probability\n",
    "plt.plot(range(len(sorted(y_test_pred_prob))), sorted(y_test_pred_prob), label='probability')\n",
    "plt.hlines(0.5, xmin=0, xmax=len(sorted(y_test_pred_prob)), linestyles='dashed')\n",
    "plt.legend()\n",
    "plt.title('sorted predicted probability plot')\n",
    "plt.show()"
   ]
  },
  {
   "cell_type": "markdown",
   "metadata": {},
   "source": [
    "# Test set prediction"
   ]
  },
  {
   "cell_type": "markdown",
   "metadata": {},
   "source": [
    "## Data laoding and preprocessing for LightGBM"
   ]
  },
  {
   "cell_type": "code",
   "execution_count": 97,
   "metadata": {
    "scrolled": true
   },
   "outputs": [
    {
     "name": "stdout",
     "output_type": "stream",
     "text": [
      "Preproocessor initializing...\n",
      "Loading data from './data/PYTHON_LAB_DF_TEST_2.csv'... Parsing datetime... Finished.\n",
      "Finished.\n",
      "Feature encoding... Finished.\n",
      "Dropping specific column(s)... Finished.\n"
     ]
    }
   ],
   "source": [
    "preprocessor = Preprocessor(data_path='./data/PYTHON_LAB_DF_TEST_2.csv', \\\n",
    "                            data_type='csv', \\\n",
    "                            parse_dates=datetime_cols)\n",
    "preprocessor.feature_encoding(cate_cols)\n",
    "preprocessor.convert_dtypes(cate_cols=cate_cols, bool_cols=bool_cols)\n",
    "## feature generation\n",
    "preprocessor.data = feature_generation(preprocessor.data)\n",
    "## drop duplicated feature(s)\n",
    "preprocessor.drop_cols(['FEMALE'])"
   ]
  },
  {
   "cell_type": "code",
   "execution_count": 100,
   "metadata": {},
   "outputs": [],
   "source": [
    "## load lightgbm model\n",
    "lgb_clf = pickle.load(open('./models/LightGBM.pkl', 'rb'))\n",
    "## predict\n",
    "LOS_pred = lgb_clf.predict_proba(preprocessor.data.drop('ID1', axis=1))[:, 1]\n",
    "submission_df = pd.DataFrame.from_dict({'ID1': preprocessor.data['ID1'].values, 'LOS_PROB': LOS_pred})\n",
    "## save prediction\n",
    "submission_df.to_csv('./submission/submission1.csv', index=False)"
   ]
  }
 ],
 "metadata": {
  "kernelspec": {
   "display_name": "Python 3",
   "language": "python",
   "name": "python3"
  },
  "language_info": {
   "codemirror_mode": {
    "name": "ipython",
    "version": 3
   },
   "file_extension": ".py",
   "mimetype": "text/x-python",
   "name": "python",
   "nbconvert_exporter": "python",
   "pygments_lexer": "ipython3",
   "version": "3.7.2"
  },
  "latex_envs": {
   "LaTeX_envs_menu_present": true,
   "autoclose": false,
   "autocomplete": true,
   "bibliofile": "biblio.bib",
   "cite_by": "apalike",
   "current_citInitial": 1,
   "eqLabelWithNumbers": true,
   "eqNumInitial": 1,
   "hotkeys": {
    "equation": "Ctrl-E",
    "itemize": "Ctrl-I"
   },
   "labels_anchors": false,
   "latex_user_defs": false,
   "report_style_numbering": false,
   "user_envs_cfg": false
  },
  "toc": {
   "base_numbering": 1,
   "nav_menu": {},
   "number_sections": true,
   "sideBar": true,
   "skip_h1_title": false,
   "title_cell": "Table of Contents",
   "title_sidebar": "Contents",
   "toc_cell": true,
   "toc_position": {},
   "toc_section_display": true,
   "toc_window_display": false
  }
 },
 "nbformat": 4,
 "nbformat_minor": 2
}
