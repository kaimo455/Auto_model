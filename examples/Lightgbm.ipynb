{
 "cells": [
  {
   "cell_type": "markdown",
   "metadata": {},
   "source": [
    "# LightGBM"
   ]
  },
  {
   "cell_type": "code",
   "execution_count": 1,
   "metadata": {
    "code_folding": [
     12,
     14,
     46,
     53,
     65,
     91,
     122
    ]
   },
   "outputs": [],
   "source": [
    "import itertools\n",
    "import lightgbm\n",
    "import json\n",
    "import pickle\n",
    "import numpy as np\n",
    "import pandas as pd\n",
    "from bayes_opt import BayesianOptimization\n",
    "from bayes_opt.observer import JSONLogger\n",
    "from bayes_opt.event import Events\n",
    "from bayes_opt.util import load_logs\n",
    "from hyperopt import fmin, tpe, hp, Trials, STATUS_OK\n"
   ]
  },
  {
   "cell_type": "code",
   "execution_count": 2,
   "metadata": {
    "code_folding": [
     0
    ]
   },
   "outputs": [],
   "source": [
    "# @ unused hyperparameters\n",
    "#               'drop_rate' | used only in dart\n",
    "#               'max_drop' | used only in dart\n",
    "#               'skip_drop' | used only in dart\n",
    "#               'xgboost_dart_mode' | used only in dart\n",
    "#               'uniform_drop' | used only in dart\n",
    "#               'drop_seed' | used only in dart\n",
    "#               'top_rate' | | for safety not used\n",
    "#               'other_rate' | for safety not used\n",
    "#               'top_k' | used only in Voteing parallel\n",
    "#               'monotone_constraints' | default\n",
    "#               'feature_contri' | default\n",
    "#               'forcedsplits_filename' | default\n",
    "#               'forcedbins_filename' | default\n",
    "#               'refit_decay_rate' | used only in refit task\n",
    "#               'cegb_penalty_feature_lazy' | default\n",
    "#               'cegb_penalty_feature_coupled' | default\n",
    "#               'cegb_tradeoff': (1, 10), \\\n",
    "#               'cegb_penalty_split': (0 ,10), \\"
   ]
  },
  {
   "cell_type": "markdown",
   "metadata": {},
   "source": [
    "## Bayes optimizer"
   ]
  },
  {
   "cell_type": "code",
   "execution_count": 4,
   "metadata": {
    "code_folding": [
     0
    ]
   },
   "outputs": [],
   "source": [
    "base_params = {'task': 'train', \\\n",
    "               'objective': 'binary', \\\n",
    "               'tree_learner': 'serial', \\\n",
    "               'num_threads': 4, \\\n",
    "               'device_type': 'cpu', \\\n",
    "               'seed': 1213, \\\n",
    "               'num_leaves': 500, \\\n",
    "               ## learning control parameters\n",
    "               'bagging_seed': 42, \\\n",
    "               'feature_fraction_seed': 3, \\\n",
    "               'first_metric_only': False, \\\n",
    "               'max_delta_step': 0, \\\n",
    "               'min_sum_hessian_in_leaf': 0.05, \\\n",
    "               'bagging_fraction': 1, \\\n",
    "               'pos_bagging_fraction': 1, \\\n",
    "               'neg_bagging_fraction': 1, \\\n",
    "               'bagging_freq': 0, \\\n",
    "               'feature_fraction': 1, \\\n",
    "               'feature_fraction_bynode': 1, \\\n",
    "               'min_data_in_leaf': 250, \\\n",
    "               'lambda_l1': 250, \\\n",
    "               ## IO parameters\n",
    "               'bin_construct_sample_cnt': 200000, \\\n",
    "               'histogram_pool_size': -1, \\\n",
    "               ## objective parameters\n",
    "               'is_unbalance': True, \\\n",
    "               'metric': 'auc,binary_logloss,binary_error', \\\n",
    "               'metric_freq': 1, \\\n",
    "               'max_bin': 511, \\\n",
    "               'min_data_in_bin': 3, \\\n",
    "               'min_gain_to_split': 0, \\\n",
    "               ### parameters for categorical features\n",
    "               'min_data_per_group': 100, \\\n",
    "               'max_cat_threshold': 32, \\\n",
    "               'cat_l2': 500, \\\n",
    "               'cat_smoth': 500\n",
    "              }\n",
    "\n",
    "cat_params = {'boosting': ['gbdt']}\n",
    "\n",
    "num_params = {\n",
    "#               'num_leaves': (2, 1024), \\\n",
    "              ## learning control parameters\n",
    "              'max_depth': (1, 200), \\\n",
    "#               'min_data_in_leaf': (2, 500), \\\n",
    "#               'min_sum_hessian_in_leaf': (0, 0.1), \\\n",
    "#               'bagging_fraction': (0.1, 1), \\\n",
    "#               'pos_bagging_fraction': (0.1, 1), \\\n",
    "#               'neg_bagging_fraction': (0.1, 1), \\\n",
    "#               'bagging_freq': (0, 100), \\\n",
    "#               'feature_fraction': (0.1, 1), \\\n",
    "#               'feature_fraction_bynode': (0.1, 1), \\\n",
    "#               'lambda_l1': (0, 500), \\\n",
    "              'lambda_l2': (1000, 4000), \\\n",
    "              ## objective parameters\n",
    "              'sigmoid': (0.1, 500), \\\n",
    "              ### parameters for categorical features\n",
    "#               'cat_l2': (10, 1000), \\\n",
    "#               'cat_smoth': (10, 1000), \\\n",
    "              'max_cat_to_onehot': (1, 100)\n",
    "             }\n",
    "\n",
    "int_params = ['num_leaves', 'max_depth', 'min_data_in_leaf', 'bagging_freq', \\\n",
    "              'min_data_per_group', 'max_cat_threshold', 'max_cat_to_onehot', \\\n",
    "              'max_bin', 'min_data_in_bin', 'max_cat_to_onehot']"
   ]
  },
  {
   "cell_type": "code",
   "execution_count": null,
   "metadata": {},
   "outputs": [],
   "source": [
    "lgb_bayes = LightGBM_binary_bayes_opt(X_train, y_train, X_eval, y_eval, X_test, y_test, \\\n",
    "                                      base_params, cat_params, num_params, int_params, \\\n",
    "                                      load_log=False, num_opts=500)\n",
    "lgb_bayes.optimize_lgb()"
   ]
  },
  {
   "cell_type": "markdown",
   "metadata": {},
   "source": [
    "## Hyperopt optimizer"
   ]
  },
  {
   "cell_type": "code",
   "execution_count": 6,
   "metadata": {},
   "outputs": [],
   "source": [
    "base_params = {'task': 'train', \\\n",
    "               'objective': 'binary', \\\n",
    "               'tree_learner': 'serial', \\\n",
    "               'num_threads': 4, \\\n",
    "               'device_type': 'cpu', \\\n",
    "               'seed': 1213, \\\n",
    "               'bagging_seed': 42, \\\n",
    "               'feature_fraction_seed': 3, \\\n",
    "               'first_metric_only': False, \\\n",
    "               'max_delta_step': 0, \\\n",
    "               'bin_construct_sample_cnt': 200000, \\\n",
    "               'histogram_pool_size': -1, \\\n",
    "               'is_unbalance': True, \\\n",
    "               'metric': 'auc,binary_logloss,binary_error', \\\n",
    "               'metric_freq': 1}\n",
    "\n",
    "cat_params = {'boosting': ['gbdt']}\n",
    "\n",
    "int_params = {'num_leaves': (2, 1024, 8), \\\n",
    "              'max_depth': (1, 100, 1), \\\n",
    "              'min_data_in_leaf': (2, 500, 4), \\\n",
    "              'bagging_freq': (0, 100, 1), \\\n",
    "              'min_data_per_group': (100, 500, 10), \\\n",
    "              'max_cat_threshold': (16, 256, 2), \\\n",
    "              'max_cat_to_onehot': (1, 100, 1), \\\n",
    "              'max_bin': (127, 511, 2), \\\n",
    "              'min_data_in_bin': (3, 128, 8)}\n",
    "\n",
    "float_params = {'min_sum_hessian_in_leaf': (0, 0.1), \\\n",
    "                'bagging_fraction': (0.1, 1), \\\n",
    "                'pos_bagging_fraction': (0.1, 1), \\\n",
    "                'neg_bagging_fraction': (0.1, 1), \\\n",
    "                'feature_fraction': (0.1, 1), \\\n",
    "                'feature_fraction_bynode': (0.1, 1), \\\n",
    "                'lambda_l1': (0, 500), \\\n",
    "                'lambda_l2': (1000, 4000), \\\n",
    "                'sigmoid': (0.1, 500), \\\n",
    "                'cat_l2': (10, 1000), \\\n",
    "                'cat_smoth': (10, 1000), \\\n",
    "                'min_gain_to_split': (0, 100)}"
   ]
  },
  {
   "cell_type": "code",
   "execution_count": null,
   "metadata": {},
   "outputs": [],
   "source": [
    "lgb_hyperopt = lightgbm_hyperopt_binary(X_train, y_train, X_eval, y_eval, X_test, y_test, \\\n",
    "                                        base_params, cat_params, int_params, float_params, \\\n",
    "                                        num_opts=50, trials_path='./trials.pkl', load_trials=True)\n",
    "best_params = lgb_hyperopt.optimize_lgb()"
   ]
  }
 ],
 "metadata": {
  "kernelspec": {
   "display_name": "Python 3",
   "language": "python",
   "name": "python3"
  },
  "language_info": {
   "codemirror_mode": {
    "name": "ipython",
    "version": 3
   },
   "file_extension": ".py",
   "mimetype": "text/x-python",
   "name": "python",
   "nbconvert_exporter": "python",
   "pygments_lexer": "ipython3",
   "version": "3.6.7"
  },
  "latex_envs": {
   "LaTeX_envs_menu_present": true,
   "autoclose": false,
   "autocomplete": true,
   "bibliofile": "biblio.bib",
   "cite_by": "apalike",
   "current_citInitial": 1,
   "eqLabelWithNumbers": true,
   "eqNumInitial": 1,
   "hotkeys": {
    "equation": "Ctrl-E",
    "itemize": "Ctrl-I"
   },
   "labels_anchors": false,
   "latex_user_defs": false,
   "report_style_numbering": false,
   "user_envs_cfg": false
  },
  "toc": {
   "base_numbering": 1,
   "nav_menu": {},
   "number_sections": true,
   "sideBar": true,
   "skip_h1_title": false,
   "title_cell": "Table of Contents",
   "title_sidebar": "Contents",
   "toc_cell": false,
   "toc_position": {},
   "toc_section_display": true,
   "toc_window_display": false
  }
 },
 "nbformat": 4,
 "nbformat_minor": 2
}
