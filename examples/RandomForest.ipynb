{
 "cells": [
  {
   "cell_type": "markdown",
   "metadata": {
    "toc": true
   },
   "source": [
    "<h1>Table of Contents<span class=\"tocSkip\"></span></h1>\n",
    "<div class=\"toc\"><ul class=\"toc-item\"></ul></div>"
   ]
  },
  {
   "cell_type": "code",
   "execution_count": 2,
   "metadata": {},
   "outputs": [],
   "source": [
    "from randomforestOptimizer import RandomForestOptimizer"
   ]
  },
  {
   "cell_type": "code",
   "execution_count": 1,
   "metadata": {},
   "outputs": [],
   "source": [
    "# @unused hyperparameters\n",
    "#   'min_impurity_split'\n",
    "\n",
    "base_params = {'bootstrap': True, \\\n",
    "               'oob_score': False, \\\n",
    "               'n_jobs': 4, \\\n",
    "               'random_state': 1213, \\\n",
    "               'warm_start': False, \\\n",
    "               'class_weight': 'balanced_subsample'}\n",
    "\n",
    "cat_params = {'criterion': ['gini', 'entropy']}\n",
    "\n",
    "int_params = {'n_estimators': (10, 500, 10), \\\n",
    "              'max_depth': (1, 50, 1), \\\n",
    "              'min_samples_split': (2, 500, 2), \\\n",
    "              'min_samples_leaf': (1, 250, 1), \\\n",
    "              'max_leaf_nodes': (2, 1024, 4)}\n",
    "\n",
    "float_params = {'min_weight_fraction_leaf': (0, 0.5), \\\n",
    "                'min_impurity_decrease': (0, 1), \\\n",
    "                'max_features': (0.1, 1)}"
   ]
  },
  {
   "cell_type": "code",
   "execution_count": null,
   "metadata": {},
   "outputs": [],
   "source": [
    "rf_optimizer = RandomForestOptimizer(X_train, y_train, X_eval, y_eval, X_test, y_test, \\\n",
    "                               base_params, cat_params, int_params, float_params, \\\n",
    "                               num_opts=1000, trials_path='./trials.pkl', load_trials=True)\n",
    "best_params = rf_optimizer.optimize_rf()"
   ]
  }
 ],
 "metadata": {
  "kernelspec": {
   "display_name": "Python 3",
   "language": "python",
   "name": "python3"
  },
  "language_info": {
   "codemirror_mode": {
    "name": "ipython",
    "version": 3
   },
   "file_extension": ".py",
   "mimetype": "text/x-python",
   "name": "python",
   "nbconvert_exporter": "python",
   "pygments_lexer": "ipython3",
   "version": "3.7.2"
  },
  "latex_envs": {
   "LaTeX_envs_menu_present": true,
   "autoclose": false,
   "autocomplete": true,
   "bibliofile": "biblio.bib",
   "cite_by": "apalike",
   "current_citInitial": 1,
   "eqLabelWithNumbers": true,
   "eqNumInitial": 1,
   "hotkeys": {
    "equation": "Ctrl-E",
    "itemize": "Ctrl-I"
   },
   "labels_anchors": false,
   "latex_user_defs": false,
   "report_style_numbering": false,
   "user_envs_cfg": false
  },
  "toc": {
   "base_numbering": 1,
   "nav_menu": {},
   "number_sections": true,
   "sideBar": true,
   "skip_h1_title": true,
   "title_cell": "Table of Contents",
   "title_sidebar": "Contents",
   "toc_cell": true,
   "toc_position": {},
   "toc_section_display": true,
   "toc_window_display": true
  }
 },
 "nbformat": 4,
 "nbformat_minor": 2
}
