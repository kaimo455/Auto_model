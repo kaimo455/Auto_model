{
 "cells": [
  {
   "cell_type": "markdown",
   "metadata": {
    "toc": true
   },
   "source": [
    "<h1>Table of Contents<span class=\"tocSkip\"></span></h1>\n",
    "<div class=\"toc\"><ul class=\"toc-item\"></ul></div>"
   ]
  },
  {
   "cell_type": "code",
   "execution_count": 1,
   "metadata": {},
   "outputs": [],
   "source": [
    "from svmOptimizer import SvmOptimizer"
   ]
  },
  {
   "cell_type": "code",
   "execution_count": 2,
   "metadata": {},
   "outputs": [],
   "source": [
    "base_params = {'shrinking': True, \\\n",
    "               'probability': True, \\\n",
    "               'cache_size': 200, \\\n",
    "               'class_weight': 'balanced', \\\n",
    "               'max_iter': -1, \\\n",
    "               'decision_function_shape': 'ovr', \\\n",
    "               'random_state': 1213}\n",
    "\n",
    "tuning_params = {'C': (-3, 3), \\\n",
    "                 'kernel': ['linear'], \\\n",
    "                 # only in 'poly'\n",
    "                 'degree': (2, 20, 1), \\\n",
    "                 # only in 'poly', 'rbf', 'sigmoid'\n",
    "                 'gamma': (0, 1), \\\n",
    "                 # only in 'poly', 'sigmoid'\n",
    "                 'coef0': (0, 1000), \\\n",
    "                 'tol': (0, 1)}"
   ]
  },
  {
   "cell_type": "code",
   "execution_count": null,
   "metadata": {},
   "outputs": [],
   "source": [
    "svm_optimizer = SvmOptimizer(X_train, y_train, X_eval, y_eval, X_test, y_test, \\\n",
    "                             base_params, tuning_params, num_opts=10)\n",
    "svm_optimizer.optimize_svm()"
   ]
  }
 ],
 "metadata": {
  "kernelspec": {
   "display_name": "Python 3",
   "language": "python",
   "name": "python3"
  },
  "language_info": {
   "codemirror_mode": {
    "name": "ipython",
    "version": 3
   },
   "file_extension": ".py",
   "mimetype": "text/x-python",
   "name": "python",
   "nbconvert_exporter": "python",
   "pygments_lexer": "ipython3",
   "version": "3.6.7"
  },
  "latex_envs": {
   "LaTeX_envs_menu_present": true,
   "autoclose": false,
   "autocomplete": true,
   "bibliofile": "biblio.bib",
   "cite_by": "apalike",
   "current_citInitial": 1,
   "eqLabelWithNumbers": true,
   "eqNumInitial": 1,
   "hotkeys": {
    "equation": "Ctrl-E",
    "itemize": "Ctrl-I"
   },
   "labels_anchors": false,
   "latex_user_defs": false,
   "report_style_numbering": false,
   "user_envs_cfg": false
  },
  "toc": {
   "base_numbering": 1,
   "nav_menu": {},
   "number_sections": true,
   "sideBar": true,
   "skip_h1_title": true,
   "title_cell": "Table of Contents",
   "title_sidebar": "Contents",
   "toc_cell": true,
   "toc_position": {},
   "toc_section_display": true,
   "toc_window_display": true
  }
 },
 "nbformat": 4,
 "nbformat_minor": 2
}
